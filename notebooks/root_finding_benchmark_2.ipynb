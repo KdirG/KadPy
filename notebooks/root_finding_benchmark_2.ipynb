{
  "nbformat": 4,
  "nbformat_minor": 0,
  "metadata": {
    "colab": {
      "provenance": [],
      "gpuType": "T4"
    },
    "kernelspec": {
      "name": "python3",
      "display_name": "Python 3"
    },
    "language_info": {
      "name": "python"
    },
    "accelerator": "GPU"
  },
  "cells": [
    {
      "cell_type": "code",
      "source": [
        "import zipfile\n",
        "import os\n",
        "\n",
        "\n",
        "with zipfile.ZipFile(\"/content/GPUPy.zip\", 'r') as zip_ref:\n",
        "    zip_ref.extractall(\"/content/\")\n",
        "\n",
        "\n",
        "os.listdir(\"/content/\")"
      ],
      "metadata": {
        "colab": {
          "base_uri": "https://localhost:8080/"
        },
        "id": "FQ7qoEYtEX4n",
        "outputId": "08080fc3-15f9-43c7-9d94-681d5183252a"
      },
      "execution_count": 3,
      "outputs": [
        {
          "output_type": "execute_result",
          "data": {
            "text/plain": [
              "['.config', 'GPUPy.zip', 'GPUPy', 'sample_data']"
            ]
          },
          "metadata": {},
          "execution_count": 3
        }
      ]
    },
    {
      "cell_type": "code",
      "source": [
        "import sys\n",
        "sys.path.append(\"/content\")"
      ],
      "metadata": {
        "id": "27C5qp97_8F1",
        "collapsed": true
      },
      "execution_count": 4,
      "outputs": []
    },
    {
      "cell_type": "code",
      "source": [
        "import GPUPy\n",
        "from GPUPy.src.numerical_methods.root_finding import bisection\n",
        "import time\n",
        "\n",
        "# Define a custom benchmark function for this specific case\n",
        "def custom_benchmark(method, func, a, b, repeats=5, **kwargs):\n",
        "    \"\"\"Custom benchmark that verifies sign change before each call.\"\"\"\n",
        "    # Verify sign change\n",
        "    fa = func(a)\n",
        "    fb = func(b)\n",
        "    if fa * fb >= 0:\n",
        "        raise ValueError(\"Function values at interval endpoints must have opposite signs.\")\n",
        "\n",
        "    # Now time the method calls\n",
        "    durations = []\n",
        "    for _ in range(repeats):\n",
        "        start = time.perf_counter()\n",
        "        method(func, a, b, **kwargs)\n",
        "        durations.append(time.perf_counter() - start)\n",
        "\n",
        "    avg_time = sum(durations) / repeats\n",
        "    return avg_time\n",
        "\n",
        "# Simple polynomial with guaranteed sign change\n",
        "def simple_poly(x):\n",
        "    return x**3 - 2*x - 5  # f(-2) < 0, f(3) > 0\n",
        "\n",
        "# Try with custom benchmark\n",
        "cpu_time = custom_benchmark(\n",
        "    bisection,\n",
        "    simple_poly,\n",
        "    a=-2,\n",
        "    b=3,\n",
        "    tolerance=1e-6,\n",
        "    max_iterations=100,\n",
        "    use_gpu=False\n",
        ")\n",
        "\n",
        "gpu_time = custom_benchmark(\n",
        "    bisection,\n",
        "    simple_poly,\n",
        "    a=-2,\n",
        "    b=3,\n",
        "    tolerance=1e-6,\n",
        "    max_iterations=100,\n",
        "    use_gpu=True\n",
        ")\n",
        "\n",
        "print(f\"Simple Poly Bisection CPU Time: {cpu_time:.6f} seconds\")\n",
        "print(f\"Simple Poly Bisection GPU Time: {gpu_time:.6f} seconds\")"
      ],
      "metadata": {
        "colab": {
          "base_uri": "https://localhost:8080/"
        },
        "id": "bVAHhXm0DBZU",
        "outputId": "38f10dec-e7b5-4e80-ad83-a2313a455011"
      },
      "execution_count": 14,
      "outputs": [
        {
          "output_type": "stream",
          "name": "stdout",
          "text": [
            "Simple Poly Bisection CPU Time: 0.000129 seconds\n",
            "Simple Poly Bisection GPU Time: 0.009026 seconds\n"
          ]
        }
      ]
    },
    {
      "cell_type": "code",
      "source": [
        "from GPUPy.src.numerical_methods.root_finding import newton_raphson\n",
        "import numpy as np\n",
        "# Sinüs fonksiyonları\n",
        "def sin_func(x):\n",
        "    return np.sin(x)\n",
        "\n",
        "def d_sin_func(x):\n",
        "    return np.cos(x)\n",
        "\n",
        "# CPU time\n",
        "cpu_time_sin = GPUPy.benchmark(newton_raphson, sin_func, d_sin_func, x0=3, tol=1e-6, max_iter=100, use_gpu=False)\n",
        "\n",
        "# GPU time\n",
        "gpu_time_sin = GPUPy.benchmark(newton_raphson, sin_func, d_sin_func, x0=3, tol=1e-6, max_iter=100, use_gpu=True)\n",
        "\n",
        "print(f\"Sin Function Newton-Raphson CPU Time: {cpu_time_sin:.6f} seconds\")\n",
        "print(f\"Sin Function Newton-Raphson GPU Time: {gpu_time_sin:.6f} seconds\")"
      ],
      "metadata": {
        "colab": {
          "base_uri": "https://localhost:8080/"
        },
        "id": "_xHmKvp6GC9T",
        "outputId": "11ace538-9014-4ce9-8904-9f086a84b823"
      },
      "execution_count": 18,
      "outputs": [
        {
          "output_type": "stream",
          "name": "stdout",
          "text": [
            "Sin Function Newton-Raphson CPU Time: 0.000022 seconds\n",
            "Sin Function Newton-Raphson GPU Time: 0.001254 seconds\n"
          ]
        }
      ]
    },
    {
      "cell_type": "code",
      "source": [
        "# Exponential-logarithmic fonksiyon\n",
        "def exp_log_func(x):\n",
        "    return np.exp(x) - np.log(x + 2)\n",
        "\n",
        "# CPU time\n",
        "cpu_time_exp_log = GPUPy.benchmark(bisection, exp_log_func, a=-1, b=2, tolerance=1e-6, max_iterations=100, use_gpu=False)\n",
        "\n",
        "# GPU time\n",
        "gpu_time_exp_log = GPUPy.benchmark(bisection, exp_log_func, a=-1, b=2, tolerance=1e-6, max_iterations=100, use_gpu=True)\n",
        "\n",
        "print(f\"Exp-Log Function Bisection CPU Time: {cpu_time_exp_log:.6f} seconds\")\n",
        "print(f\"Exp-Log Function Bisection GPU Time: {gpu_time_exp_log:.6f} seconds\")"
      ],
      "metadata": {
        "colab": {
          "base_uri": "https://localhost:8080/",
          "height": 356
        },
        "id": "J6v4dMJDGWep",
        "outputId": "5a26daf6-166d-4467-b8b1-fcb49ab59077"
      },
      "execution_count": 19,
      "outputs": [
        {
          "output_type": "error",
          "ename": "ValueError",
          "evalue": "Function values at interval endpoints must have opposite signs.",
          "traceback": [
            "\u001b[0;31m---------------------------------------------------------------------------\u001b[0m",
            "\u001b[0;31mValueError\u001b[0m                                Traceback (most recent call last)",
            "\u001b[0;32m<ipython-input-19-b042ed17cac6>\u001b[0m in \u001b[0;36m<cell line: 0>\u001b[0;34m()\u001b[0m\n\u001b[1;32m      4\u001b[0m \u001b[0;34m\u001b[0m\u001b[0m\n\u001b[1;32m      5\u001b[0m \u001b[0;31m# CPU time\u001b[0m\u001b[0;34m\u001b[0m\u001b[0;34m\u001b[0m\u001b[0m\n\u001b[0;32m----> 6\u001b[0;31m \u001b[0mcpu_time_exp_log\u001b[0m \u001b[0;34m=\u001b[0m \u001b[0mGPUPy\u001b[0m\u001b[0;34m.\u001b[0m\u001b[0mbenchmark\u001b[0m\u001b[0;34m(\u001b[0m\u001b[0mbisection\u001b[0m\u001b[0;34m,\u001b[0m \u001b[0mexp_log_func\u001b[0m\u001b[0;34m,\u001b[0m \u001b[0ma\u001b[0m\u001b[0;34m=\u001b[0m\u001b[0;34m-\u001b[0m\u001b[0;36m1\u001b[0m\u001b[0;34m,\u001b[0m \u001b[0mb\u001b[0m\u001b[0;34m=\u001b[0m\u001b[0;36m2\u001b[0m\u001b[0;34m,\u001b[0m \u001b[0mtolerance\u001b[0m\u001b[0;34m=\u001b[0m\u001b[0;36m1e-6\u001b[0m\u001b[0;34m,\u001b[0m \u001b[0mmax_iterations\u001b[0m\u001b[0;34m=\u001b[0m\u001b[0;36m100\u001b[0m\u001b[0;34m,\u001b[0m \u001b[0muse_gpu\u001b[0m\u001b[0;34m=\u001b[0m\u001b[0;32mFalse\u001b[0m\u001b[0;34m)\u001b[0m\u001b[0;34m\u001b[0m\u001b[0;34m\u001b[0m\u001b[0m\n\u001b[0m\u001b[1;32m      7\u001b[0m \u001b[0;34m\u001b[0m\u001b[0m\n\u001b[1;32m      8\u001b[0m \u001b[0;31m# GPU time\u001b[0m\u001b[0;34m\u001b[0m\u001b[0;34m\u001b[0m\u001b[0m\n",
            "\u001b[0;32m/content/GPUPy/src/numerical_methods/utils.py\u001b[0m in \u001b[0;36mbenchmark\u001b[0;34m(method, repeats, *args, **kwargs)\u001b[0m\n\u001b[1;32m     60\u001b[0m     \u001b[0;32mfor\u001b[0m \u001b[0m_\u001b[0m \u001b[0;32min\u001b[0m \u001b[0mrange\u001b[0m\u001b[0;34m(\u001b[0m\u001b[0mrepeats\u001b[0m\u001b[0;34m)\u001b[0m\u001b[0;34m:\u001b[0m \u001b[0;31m#repeat as much as repeats count\u001b[0m\u001b[0;34m\u001b[0m\u001b[0;34m\u001b[0m\u001b[0m\n\u001b[1;32m     61\u001b[0m         \u001b[0mstart\u001b[0m \u001b[0;34m=\u001b[0m \u001b[0mtime\u001b[0m\u001b[0;34m.\u001b[0m\u001b[0mperf_counter\u001b[0m\u001b[0;34m(\u001b[0m\u001b[0;34m)\u001b[0m \u001b[0;31m#saving the start time\u001b[0m\u001b[0;34m\u001b[0m\u001b[0;34m\u001b[0m\u001b[0m\n\u001b[0;32m---> 62\u001b[0;31m         \u001b[0mmethod\u001b[0m\u001b[0;34m(\u001b[0m\u001b[0;34m*\u001b[0m\u001b[0margs\u001b[0m\u001b[0;34m,\u001b[0m \u001b[0;34m**\u001b[0m\u001b[0mkwargs\u001b[0m\u001b[0;34m)\u001b[0m \u001b[0;31m#running the function\u001b[0m\u001b[0;34m\u001b[0m\u001b[0;34m\u001b[0m\u001b[0m\n\u001b[0m\u001b[1;32m     63\u001b[0m         \u001b[0mdurations\u001b[0m\u001b[0;34m.\u001b[0m\u001b[0mappend\u001b[0m\u001b[0;34m(\u001b[0m\u001b[0mtime\u001b[0m\u001b[0;34m.\u001b[0m\u001b[0mperf_counter\u001b[0m\u001b[0;34m(\u001b[0m\u001b[0;34m)\u001b[0m  \u001b[0;34m-\u001b[0m \u001b[0mstart\u001b[0m\u001b[0;34m)\u001b[0m\u001b[0;34m\u001b[0m\u001b[0;34m\u001b[0m\u001b[0m\n\u001b[1;32m     64\u001b[0m     \u001b[0mavg_time\u001b[0m \u001b[0;34m=\u001b[0m \u001b[0msum\u001b[0m\u001b[0;34m(\u001b[0m\u001b[0mdurations\u001b[0m\u001b[0;34m)\u001b[0m \u001b[0;34m/\u001b[0m \u001b[0mrepeats\u001b[0m \u001b[0;31m#calculating time average time\u001b[0m\u001b[0;34m\u001b[0m\u001b[0;34m\u001b[0m\u001b[0m\n",
            "\u001b[0;32m/content/GPUPy/src/numerical_methods/root_finding.py\u001b[0m in \u001b[0;36mbisection\u001b[0;34m(func, a, b, tolerance, max_iterations, use_gpu)\u001b[0m\n\u001b[1;32m     31\u001b[0m     \u001b[0mfb\u001b[0m \u001b[0;34m=\u001b[0m \u001b[0mfunc\u001b[0m\u001b[0;34m(\u001b[0m\u001b[0mb\u001b[0m\u001b[0;34m)\u001b[0m\u001b[0;34m\u001b[0m\u001b[0;34m\u001b[0m\u001b[0m\n\u001b[1;32m     32\u001b[0m     \u001b[0;32mif\u001b[0m \u001b[0mfa\u001b[0m \u001b[0;34m*\u001b[0m \u001b[0mfb\u001b[0m \u001b[0;34m>=\u001b[0m \u001b[0;36m0\u001b[0m\u001b[0;34m:\u001b[0m\u001b[0;34m\u001b[0m\u001b[0;34m\u001b[0m\u001b[0m\n\u001b[0;32m---> 33\u001b[0;31m         \u001b[0;32mraise\u001b[0m \u001b[0mValueError\u001b[0m\u001b[0;34m(\u001b[0m\u001b[0;34m\"Function values at interval endpoints must have opposite signs.\"\u001b[0m\u001b[0;34m)\u001b[0m\u001b[0;34m\u001b[0m\u001b[0;34m\u001b[0m\u001b[0m\n\u001b[0m\u001b[1;32m     34\u001b[0m \u001b[0;34m\u001b[0m\u001b[0m\n\u001b[1;32m     35\u001b[0m     \u001b[0miteration_count\u001b[0m \u001b[0;34m=\u001b[0m \u001b[0;36m0\u001b[0m\u001b[0;34m\u001b[0m\u001b[0;34m\u001b[0m\u001b[0m\n",
            "\u001b[0;31mValueError\u001b[0m: Function values at interval endpoints must have opposite signs."
          ]
        }
      ]
    },
    {
      "cell_type": "markdown",
      "source": [
        "# Yeni Bölüm"
      ],
      "metadata": {
        "id": "WUcDLiEgCk4h"
      }
    }
  ]
}