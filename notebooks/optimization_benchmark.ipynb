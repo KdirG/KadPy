{
  "nbformat": 4,
  "nbformat_minor": 0,
  "metadata": {
    "colab": {
      "provenance": [],
      "gpuType": "T4"
    },
    "kernelspec": {
      "name": "python3",
      "display_name": "Python 3"
    },
    "language_info": {
      "name": "python"
    },
    "accelerator": "GPU"
  },
  "cells": [
    {
      "cell_type": "code",
      "source": [
        "import zipfile\n",
        "import os\n",
        "\n",
        "\n",
        "with zipfile.ZipFile(\"/content/GPUPy.zip\", 'r') as zip_ref:\n",
        "    zip_ref.extractall(\"/content/\")"
      ],
      "metadata": {
        "id": "L4oc2NsjRl-b"
      },
      "execution_count": 1,
      "outputs": []
    },
    {
      "cell_type": "code",
      "source": [
        "with zipfile.ZipFile(\"/content/GPUPy.zip\", 'r') as zip_ref:\n",
        "    zip_ref.extractall(\"/content/\")"
      ],
      "metadata": {
        "id": "6RsfCmlRRl10"
      },
      "execution_count": 2,
      "outputs": []
    },
    {
      "cell_type": "code",
      "source": [
        "import time\n",
        "import numpy as np\n",
        "import cupy as cp\n",
        "from GPUPy.src.numerical_methods.optimization import minimize_wrapper, minimize_scalar_wrapper\n",
        "\n",
        "def setup_scalar_problem():\n",
        "    def rosenbrock_scalar(x):\n",
        "        return (1 - x)**2 + 100*(0 - x**2)**2\n",
        "\n",
        "    return rosenbrock_scalar, -2.0  # Function and initial guess\n",
        "\n",
        "def setup_vector_problem(dim=100):\n",
        "    def rosenbrock(x):\n",
        "        return np.sum(100.0*(x[1:] - x[:-1]**2)**2 + (1 - x[:-1])**2)\n",
        "\n",
        "    x0 = np.zeros(dim)\n",
        "    x0[::2] = 1.5\n",
        "    x0[1::2] = -0.5\n",
        "    return rosenbrock, x0\n",
        "\n",
        "def run_benchmark():\n",
        "    print(\"=== Optimization Benchmark (CPU vs GPU) ===\")\n",
        "    print(\"Note: GPU acceleration is only for function evaluation\")\n",
        "    print(\"The optimization algorithm itself runs on CPU\\n\")\n",
        "\n",
        "    # Benchmark scalar optimization\n",
        "    print(\"\\n1. Scalar Optimization (Rosenbrock function)\")\n",
        "    func, x0 = setup_scalar_problem()\n",
        "\n",
        "    # CPU\n",
        "    start = time.time()\n",
        "    res_cpu = minimize_scalar_wrapper(func, use_gpu=False, method='brent')\n",
        "    cpu_time = time.time() - start\n",
        "\n",
        "    # GPU (if available)\n",
        "    if cp is not None:\n",
        "        start = time.time()\n",
        "        res_gpu = minimize_scalar_wrapper(func, use_gpu=True, method='brent')\n",
        "        gpu_time = time.time() - start\n",
        "\n",
        "        print(f\"CPU Time: {cpu_time:.4f}s, Solution: {res_cpu.x:.6f}\")\n",
        "        print(f\"GPU Time: {gpu_time:.4f}s, Solution: {res_gpu.x:.6f}\")\n",
        "        print(f\"Speedup: {cpu_time/gpu_time:.2f}x\")\n",
        "    else:\n",
        "        print(f\"CPU Time: {cpu_time:.4f}s, Solution: {res_cpu.x:.6f}\")\n",
        "        print(\"CuPy not available - skipping GPU test\")\n",
        "\n",
        "    # Benchmark multivariate optimization\n",
        "    dim = 100  # Problem dimension\n",
        "    print(f\"\\n2. Multivariate Optimization ({dim}D Rosenbrock function)\")\n",
        "    func, x0 = setup_vector_problem(dim)\n",
        "\n",
        "    # CPU\n",
        "    start = time.time()\n",
        "    res_cpu = minimize_wrapper(func, x0, use_gpu=False, method='L-BFGS-B')\n",
        "    cpu_time = time.time() - start\n",
        "\n",
        "    # GPU (if available)\n",
        "    if cp is not None:\n",
        "        start = time.time()\n",
        "        res_gpu = minimize_wrapper(func, x0, use_gpu=True, method='L-BFGS-B')\n",
        "        gpu_time = time.time() - start\n",
        "\n",
        "        print(f\"CPU Time: {cpu_time:.4f}s, Final fval: {res_cpu.fun:.6f}\")\n",
        "        print(f\"GPU Time: {gpu_time:.4f}s, Final fval: {res_gpu.fun:.6f}\")\n",
        "        print(f\"Speedup: {cpu_time/gpu_time:.2f}x\")\n",
        "\n",
        "        # Verify solutions are similar\n",
        "        if not np.allclose(res_cpu.x, res_gpu.x, rtol=1e-2):\n",
        "          print(\"WARNING: CPU and GPU solutions differ significantly!\")\n",
        "    else:\n",
        "        print(f\"CPU Time: {cpu_time:.4f}s, Final fval: {res_cpu.fun:.6f}\")\n",
        "        print(\"CuPy not available - skipping GPU test\")\n",
        "\n",
        "if __name__ == \"__main__\":\n",
        "    run_benchmark()\n",
        "\n",
        "\n",
        "\n",
        "\n"
      ],
      "metadata": {
        "colab": {
          "base_uri": "https://localhost:8080/"
        },
        "id": "RSXp-3OuUCmz",
        "outputId": "7970b481-15cd-48e3-fb73-eeaecf438d68"
      },
      "execution_count": 6,
      "outputs": [
        {
          "output_type": "stream",
          "name": "stdout",
          "text": [
            "=== Optimization Benchmark (CPU vs GPU) ===\n",
            "Note: GPU acceleration is only for function evaluation\n",
            "The optimization algorithm itself runs on CPU\n",
            "\n",
            "\n",
            "1. Scalar Optimization (Rosenbrock function)\n",
            "CPU Time: 0.0005s, Solution: 0.161262\n",
            "GPU Time: 0.0067s, Solution: 0.161262\n",
            "Speedup: 0.07x\n",
            "\n",
            "2. Multivariate Optimization (100D Rosenbrock function)\n",
            "CPU Time: 1.3612s, Final fval: 70.638377\n",
            "GPU Time: 8.6634s, Final fval: 71.442128\n",
            "Speedup: 0.16x\n",
            "WARNING: CPU and GPU solutions differ significantly!\n"
          ]
        }
      ]
    }
  ]
}