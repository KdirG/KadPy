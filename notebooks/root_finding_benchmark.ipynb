{
  "nbformat": 4,
  "nbformat_minor": 0,
  "metadata": {
    "colab": {
      "provenance": [],
      "gpuType": "T4"
    },
    "kernelspec": {
      "name": "python3",
      "display_name": "Python 3"
    },
    "language_info": {
      "name": "python"
    },
    "accelerator": "GPU"
  },
  "cells": [
    {
      "cell_type": "code",
      "execution_count": 3,
      "metadata": {
        "colab": {
          "base_uri": "https://localhost:8080/"
        },
        "id": "j5SoZchu6tZW",
        "outputId": "ac2f652b-7de1-48d5-d857-3c4b8e298dcf"
      },
      "outputs": [
        {
          "output_type": "execute_result",
          "data": {
            "text/plain": [
              "['.config', 'GPUPy.zip', 'GPUPy', 'sample_data']"
            ]
          },
          "metadata": {},
          "execution_count": 3
        }
      ],
      "source": [
        "import zipfile\n",
        "import os\n",
        "\n",
        "\n",
        "with zipfile.ZipFile(\"/content/GPUPy.zip\", 'r') as zip_ref:\n",
        "    zip_ref.extractall(\"/content/\")\n",
        "\n",
        "\n",
        "os.listdir(\"/content/\")"
      ]
    },
    {
      "cell_type": "code",
      "source": [
        "import sys\n",
        "sys.path.append(\"/content\")\n"
      ],
      "metadata": {
        "id": "G_pIzLNB7EM4"
      },
      "execution_count": 4,
      "outputs": []
    },
    {
      "cell_type": "code",
      "source": [
        "import GPUPy\n",
        "from GPUPy.src.numerical_methods.utils import benchmark\n",
        "import numpy as np\n",
        "import cupy as cp\n",
        "from GPUPy.src.numerical_methods.root_finding import bisection, newton_raphson\n",
        "\n",
        "def func(x):\n",
        "    return x**2 - 4\n",
        "\n",
        "\n",
        "cpu_time_bisection = GPUPy.benchmark(bisection, func, a=0, b=5, tolerance=1e-6, max_iterations=100, use_gpu=False)\n",
        "\n",
        "\n",
        "gpu_time_bisection =  GPUPy.benchmark(bisection, func, a=0, b=5, tolerance=1e-6, max_iterations=100, use_gpu=True)\n",
        "\n",
        "print(f\"Bisection CPU Average Time: {cpu_time:.6f} seconds\")\n",
        "print(f\"Bisection GPU Average Time: {gpu_time:.6f} seconds\")\n",
        "\n",
        "\n",
        "cpu_time_newton = GPUPy.benchmark(newton_raphson, func, dfunc, x0=5, tol=1e-6, max_iter=100, use_gpu=False)\n",
        "gpu_time_newton = GPUPy.benchmark(newton_raphson, func, dfunc, x0=5, tol=1e-6, max_iter=100, use_gpu=True)\n",
        "\n",
        "print(f\"Newton-Raphson CPU Average Time: {cpu_time_newton:.6f} seconds\")\n",
        "print(f\"Newton-Raphson GPU Average Time: {gpu_time_newton:.6f} seconds\")"
      ],
      "metadata": {
        "colab": {
          "base_uri": "https://localhost:8080/",
          "height": 245
        },
        "id": "i-QeWr_27IcW",
        "outputId": "a6f41dce-7bcd-4f82-a5e5-98ecafba40a0"
      },
      "execution_count": 8,
      "outputs": [
        {
          "output_type": "stream",
          "name": "stdout",
          "text": [
            "Bisection CPU Average Time: 0.000083 seconds\n",
            "Bisection GPU Average Time: 0.514582 seconds\n"
          ]
        },
        {
          "output_type": "error",
          "ename": "NameError",
          "evalue": "name 'dfunc' is not defined",
          "traceback": [
            "\u001b[0;31m---------------------------------------------------------------------------\u001b[0m",
            "\u001b[0;31mNameError\u001b[0m                                 Traceback (most recent call last)",
            "\u001b[0;32m<ipython-input-8-067c4866a2a8>\u001b[0m in \u001b[0;36m<cell line: 0>\u001b[0;34m()\u001b[0m\n\u001b[1;32m     18\u001b[0m \u001b[0;34m\u001b[0m\u001b[0m\n\u001b[1;32m     19\u001b[0m \u001b[0;34m\u001b[0m\u001b[0m\n\u001b[0;32m---> 20\u001b[0;31m \u001b[0mcpu_time_newton\u001b[0m \u001b[0;34m=\u001b[0m \u001b[0mGPUPy\u001b[0m\u001b[0;34m.\u001b[0m\u001b[0mbenchmark\u001b[0m\u001b[0;34m(\u001b[0m\u001b[0mnewton_raphson\u001b[0m\u001b[0;34m,\u001b[0m \u001b[0mfunc\u001b[0m\u001b[0;34m,\u001b[0m \u001b[0mdfunc\u001b[0m\u001b[0;34m,\u001b[0m \u001b[0mx0\u001b[0m\u001b[0;34m=\u001b[0m\u001b[0;36m5\u001b[0m\u001b[0;34m,\u001b[0m \u001b[0mtol\u001b[0m\u001b[0;34m=\u001b[0m\u001b[0;36m1e-6\u001b[0m\u001b[0;34m,\u001b[0m \u001b[0mmax_iter\u001b[0m\u001b[0;34m=\u001b[0m\u001b[0;36m100\u001b[0m\u001b[0;34m,\u001b[0m \u001b[0muse_gpu\u001b[0m\u001b[0;34m=\u001b[0m\u001b[0;32mFalse\u001b[0m\u001b[0;34m)\u001b[0m\u001b[0;34m\u001b[0m\u001b[0;34m\u001b[0m\u001b[0m\n\u001b[0m\u001b[1;32m     21\u001b[0m \u001b[0mgpu_time_newton\u001b[0m \u001b[0;34m=\u001b[0m \u001b[0mGPUPy\u001b[0m\u001b[0;34m.\u001b[0m\u001b[0mbenchmark\u001b[0m\u001b[0;34m(\u001b[0m\u001b[0mnewton_raphson\u001b[0m\u001b[0;34m,\u001b[0m \u001b[0mfunc\u001b[0m\u001b[0;34m,\u001b[0m \u001b[0mdfunc\u001b[0m\u001b[0;34m,\u001b[0m \u001b[0mx0\u001b[0m\u001b[0;34m=\u001b[0m\u001b[0;36m5\u001b[0m\u001b[0;34m,\u001b[0m \u001b[0mtol\u001b[0m\u001b[0;34m=\u001b[0m\u001b[0;36m1e-6\u001b[0m\u001b[0;34m,\u001b[0m \u001b[0mmax_iter\u001b[0m\u001b[0;34m=\u001b[0m\u001b[0;36m100\u001b[0m\u001b[0;34m,\u001b[0m \u001b[0muse_gpu\u001b[0m\u001b[0;34m=\u001b[0m\u001b[0;32mTrue\u001b[0m\u001b[0;34m)\u001b[0m\u001b[0;34m\u001b[0m\u001b[0;34m\u001b[0m\u001b[0m\n\u001b[1;32m     22\u001b[0m \u001b[0;34m\u001b[0m\u001b[0m\n",
            "\u001b[0;31mNameError\u001b[0m: name 'dfunc' is not defined"
          ]
        }
      ]
    }
  ]
}